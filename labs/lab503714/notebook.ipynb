{
 "cells": [
  {
   "cell_type": "code",
   "execution_count": null,
   "id": "35e79f89",
   "metadata": {},
   "outputs": [
    {
     "name": "stdout",
     "output_type": "stream",
     "text": [
      "Requirement already satisfied: pip in /Users/kzmsh/.pyenv/versions/3.12.1/lib/python3.12/site-packages (25.1.1)\n",
      "Collecting pip\n",
      "  Downloading pip-25.2-py3-none-any.whl.metadata (4.7 kB)\n",
      "Downloading pip-25.2-py3-none-any.whl (1.8 MB)\n",
      "\u001b[2K   \u001b[90m━━━━━━━━━━━━━━━━━━━━━━━━━━━━━━━━━━━━━━━━\u001b[0m \u001b[32m1.8/1.8 MB\u001b[0m \u001b[31m2.8 MB/s\u001b[0m eta \u001b[36m0:00:00\u001b[0ma \u001b[36m0:00:01\u001b[0m\n",
      "\u001b[?25hInstalling collected packages: pip\n",
      "  Attempting uninstall: pip\n",
      "    Found existing installation: pip 25.1.1\n",
      "    Uninstalling pip-25.1.1:\n",
      "      Successfully uninstalled pip-25.1.1\n",
      "Successfully installed pip-25.2\n",
      "Note: you may need to restart the kernel to use updated packages.\n",
      "Collecting google-cloud-bigquery==3.25.0 (from -r requirements.txt (line 1))\n",
      "  Using cached google_cloud_bigquery-3.25.0-py2.py3-none-any.whl.metadata (8.9 kB)\n",
      "\u001b[31mERROR: Ignored the following versions that require a different python version: 2.0.0 Requires-Python >=3.7.0,<3.12.0; 2.0.0b2 Requires-Python >=3.7.0,<3.12.0; 2.0.0b3 Requires-Python >=3.7.0,<3.12.0; 2.0.0b4 Requires-Python >=3.7.0,<3.12.0; 2.0.0b5 Requires-Python >=3.7.0,<3.12.0; 2.1.0 Requires-Python >=3.7.0,<3.12.0; 2.1.1 Requires-Python >=3.7.0,<3.12.0; 2.10.0 Requires-Python >=3.6,<3.10; 2.10.0 Requires-Python >=3.7.0,<3.12.0; 2.11.0 Requires-Python >=3.6,<3.10; 2.11.0 Requires-Python >=3.7.0,<3.12.0; 2.12.0 Requires-Python >=3.6,<3.10; 2.12.0 Requires-Python >=3.7.0,<3.12.0; 2.13.0 Requires-Python >=3.6,<3.10; 2.13.0 Requires-Python >=3.7.0,<3.12.0; 2.13.1 Requires-Python >=3.6,<3.10; 2.13.1 Requires-Python >=3.7.0,<3.12.0; 2.14.0 Requires-Python >=3.6,<3.10; 2.14.0 Requires-Python >=3.8.0,<3.12.0; 2.14.1 Requires-Python >=3.8.0,<3.12.0; 2.15.0 Requires-Python >=3.6,<3.10; 2.15.0 Requires-Python >=3.8.0,<3.12.0; 2.16.0 Requires-Python >=3.6,<3.10; 2.16.0 Requires-Python >=3.8.0,<3.12.0; 2.16.1 Requires-Python >=3.6,<3.10; 2.16.1 Requires-Python >=3.8.0,<3.12.0; 2.17.0 Requires-Python >=3.6,<3.10; 2.17.0 Requires-Python >=3.8.0,<3.12.0; 2.18.0 Requires-Python >=3.6,<3.10; 2.19.0 Requires-Python >=3.6,<3.10; 2.2.0 Requires-Python >=3.7.0,<3.12.0; 2.20.0 Requires-Python >=3.6,<3.10; 2.21.0 Requires-Python >=3.6,<3.10; 2.22.0 Requires-Python >=3.6,<3.10; 2.22.1 Requires-Python >=3.6,<3.10; 2.23.0 Requires-Python >=3.6,<3.10; 2.23.1 Requires-Python >=3.6,<3.10; 2.23.2 Requires-Python >=3.6,<3.10; 2.23.3 Requires-Python >=3.6,<3.10; 2.24.0 Requires-Python >=3.6,<3.10; 2.24.1 Requires-Python >=3.6,<3.10; 2.25.0 Requires-Python >=3.6,<3.10; 2.25.1 Requires-Python >=3.6,<3.10; 2.25.2 Requires-Python >=3.6,<3.10; 2.26.0 Requires-Python >=3.6,<3.10; 2.27.0 Requires-Python >=3.6,<3.10; 2.27.1 Requires-Python >=3.6,<3.10; 2.28.0 Requires-Python >=3.6,<3.10; 2.28.1 Requires-Python >=3.6,<3.10; 2.29.0 Requires-Python >=3.6,<3.10; 2.3.0 Requires-Python >=3.7.0,<3.12.0; 2.3.1 Requires-Python >=3.7.0,<3.12.0; 2.30.0 Requires-Python >=3.6,<3.11; 2.30.1 Requires-Python >=3.6,<3.11; 2.31.0 Requires-Python >=3.6,<3.11; 2.32.0 Requires-Python >=3.6,<3.11; 2.33.0 Requires-Python >=3.6,<3.11; 2.34.0 Requires-Python >=3.6,<3.11; 2.34.1 Requires-Python >=3.6,<3.11; 2.34.2 Requires-Python >=3.6,<3.11; 2.34.3 Requires-Python >=3.6,<3.11; 2.34.4 Requires-Python >=3.6,<3.11; 2.4.0 Requires-Python >=3.7.0,<3.12.0; 2.4.1 Requires-Python >=3.7.0,<3.12.0; 2.5.0 Requires-Python >=3.7.0,<3.12.0; 2.6.0 Requires-Python >=3.7.0,<3.12.0; 2.6.2 Requires-Python >=3.6,<3.9; 2.7.0 Requires-Python >=3.6,<3.10; 2.7.0 Requires-Python >=3.7.0,<3.12.0; 2.8.0 Requires-Python >=3.6,<3.10; 2.8.0 Requires-Python >=3.7.0,<3.12.0; 2.9.0 Requires-Python >=3.6,<3.10; 2.9.0 Requires-Python >=3.7.0,<3.12.0; 3.0.0 Requires-Python >=3.6,<3.11; 3.0.0b1 Requires-Python >=3.6,<3.11; 3.0.1 Requires-Python >=3.6,<3.11; 3.1.0 Requires-Python >=3.6,<3.11; 3.2.0 Requires-Python >=3.6,<3.11; 3.3.0 Requires-Python >=3.7,<3.11; 3.3.1 Requires-Python >=3.7,<3.11; 3.3.2 Requires-Python >=3.7,<3.11; 3.3.3 Requires-Python >=3.7,<3.11; 3.3.5 Requires-Python >=3.7,<3.11; 3.3.6 Requires-Python >=3.7,<3.11\u001b[0m\u001b[31m\n",
      "\u001b[0m\u001b[31mERROR: Could not find a version that satisfies the requirement google-cloud-pipeline-components==2.15.0 (from versions: 0.1.0, 0.1.1, 0.1.2, 0.1.3, 0.1.4, 0.1.5, 0.1.6, 0.1.7, 0.1.8.dev0, 0.1.8, 0.1.9.dev0, 0.1.9, 0.2.0, 0.2.1, 0.2.2, 0.2.3, 0.2.4, 0.2.5, 0.2.6, 0.3.0, 0.3.1, 1.0.dev2, 1.0.0, 1.0.1, 1.0.2, 1.0.3, 1.0.4, 1.0.5.dev0, 1.0.5, 1.0.6, 1.0.7, 1.0.8, 1.0.9, 1.0.10, 1.0.11, 1.0.12, 1.0.13, 1.0.14, 1.0.15, 1.0.16, 1.0.17, 1.0.18, 1.0.19, 1.0.20, 1.0.21, 1.0.22, 1.0.23, 1.0.24, 1.0.25, 1.0.26, 1.0.27, 1.0.28, 1.0.29, 1.0.30, 1.0.31, 1.0.32, 1.0.33, 1.0.34, 1.0.35, 1.0.36, 1.0.37, 1.0.38, 1.0.39, 1.0.40, 1.0.41, 1.0.42, 1.0.43, 1.0.44, 1.0.45, 2.0.0b0, 2.0.0b1, 2.18.0, 2.19.0, 2.20.0, 2.20.1)\u001b[0m\u001b[31m\n",
      "\u001b[0m\u001b[31mERROR: No matching distribution found for google-cloud-pipeline-components==2.15.0\u001b[0m\u001b[31m\n",
      "\u001b[0mNote: you may need to restart the kernel to use updated packages.\n"
     ]
    }
   ],
   "source": [
    "%pip install -U pip\n",
    "%pip install -r requirements.txt"
   ]
  },
  {
   "cell_type": "code",
   "execution_count": null,
   "id": "1fea9838",
   "metadata": {},
   "outputs": [],
   "source": [
    "import numpy as np\n",
    "from skimage import data\n",
    "\n",
    "i = data.astronaut()"
   ]
  },
  {
   "cell_type": "code",
   "execution_count": null,
   "id": "bf330121",
   "metadata": {},
   "outputs": [],
   "source": [
    "import matplotlib.pyplot as plt\n",
    "plt.grid(False)\n",
    "plt.gray()\n",
    "plt.axis('off')\n",
    "plt.imshow(i)\n",
    "plt.show()"
   ]
  },
  {
   "cell_type": "code",
   "execution_count": null,
   "id": "f2bd05d3",
   "metadata": {},
   "outputs": [],
   "source": [
    "i_transformed = np.copy(i)\n",
    "size_x = i_transformed.shape[0]\n",
    "size_y = i_transformed.shape[1]"
   ]
  },
  {
   "cell_type": "code",
   "execution_count": null,
   "id": "c62c09bc",
   "metadata": {},
   "outputs": [],
   "source": [
    "# This filter detects edges nicely\n",
    "# It creates a convolution that only passes through sharp edges and straight\n",
    "# lines.\n",
    "\n",
    "#Experiment with different values for fun effects.\n",
    "#filter = [ [0, 1, 0], [1, -4, 1], [0, 1, 0]]\n",
    "\n",
    "# A couple more filters to try for fun!\n",
    "filter = [ [-1, -2, -1], [0, 0, 0], [1, 2, 1]]\n",
    "#filter = [ [-1, 0, 1], [-2, 0, 2], [-1, 0, 1]]\n",
    "\n",
    "# If all the digits in the filter don't add up to 0 or 1, you\n",
    "# should probably do a weight to get it to do so\n",
    "# so, for example, if your weights are 1,1,1 1,2,1 1,1,1\n",
    "# They add up to 10, so you would set a weight of .1 if you want to normalize them\n",
    "weight  = 1"
   ]
  },
  {
   "cell_type": "code",
   "execution_count": null,
   "id": "94ffbe5d",
   "metadata": {},
   "outputs": [],
   "source": [
    "i_transformed = np.zeros_like(i)\n",
    "filter = np.array(filter)\n",
    "for x in range(1, size_x - 1):\n",
    "  for y in range(1, size_y - 1):\n",
    "    convolution = 0.0\n",
    "\n",
    "    for fx in range(3):\n",
    "      for fy in range(3):\n",
    "        convolution += i[x + fx - 1, y + fy - 1] * filter[fx, fy]\n",
    "    convolution *= weight\n",
    "    convolution = np.clip(convolution, 0, 255)\n",
    "    i_transformed[x, y] = convolution"
   ]
  },
  {
   "cell_type": "code",
   "execution_count": null,
   "id": "bc51cd1f",
   "metadata": {},
   "outputs": [],
   "source": [
    "plt.gray()\n",
    "plt.grid(False)\n",
    "plt.imshow(i_transformed)\n",
    "#plt.axis('off')\n",
    "plt.show()"
   ]
  },
  {
   "cell_type": "code",
   "execution_count": null,
   "id": "89bf053b",
   "metadata": {},
   "outputs": [],
   "source": [
    "new_x = int(size_x / 2)\n",
    "new_y = int(size_y / 2)\n",
    "newImage = np.zeros((new_x, new_y))\n",
    "\n",
    "for x in range(0, size_x - 1, 2):\n",
    "    for y in range(0, size_y - 1, 2):\n",
    "\n",
    "        pixels = [\n",
    "            i_transformed[x, y], i_transformed[x+1, y],\n",
    "            i_transformed[x, y+1], i_transformed[x+1, y+1]\n",
    "        ]\n",
    "\n",
    "        if isinstance(pixels[0], np.ndarray):\n",
    "            pixels = [max(p.max() for p in pixel) if isinstance(pixel, np.ndarray) else float(pixel) for pixel in pixels]\n",
    "        pixels.sort(reverse=True)\n",
    "        newImage[int(x / 2), int(y / 2)] = pixels[0]\n",
    "\n",
    "plt.gray()\n",
    "plt.grid(False)\n",
    "plt.imshow(newImage)\n",
    "plt.savefig('final.png')\n",
    "plt.show()"
   ]
  }
 ],
 "metadata": {
  "kernelspec": {
   "display_name": "Python 3",
   "language": "python",
   "name": "python3"
  },
  "language_info": {
   "codemirror_mode": {
    "name": "ipython",
    "version": 3
   },
   "file_extension": ".py",
   "mimetype": "text/x-python",
   "name": "python",
   "nbconvert_exporter": "python",
   "pygments_lexer": "ipython3",
   "version": "3.12.1"
  }
 },
 "nbformat": 4,
 "nbformat_minor": 5
}
